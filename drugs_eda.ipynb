{
 "cells": [
  {
   "cell_type": "code",
   "execution_count": 1,
   "id": "ee866a4a-1c49-410d-abfe-01e4063751bd",
   "metadata": {},
   "outputs": [],
   "source": [
    "# Libraries\n",
    "import pandas as pd\n",
    "import numpy as np\n",
    "\n",
    "import matplotlib.pyplot as plt\n",
    "import matplotlib as mpl\n",
    "import seaborn as sns\n",
    "%matplotlib inline\n",
    "# mpl.rcParams['figure.dpi']= 300\n",
    "sns.set()"
   ]
  },
  {
   "cell_type": "code",
   "execution_count": 2,
   "id": "de440911-3f1e-4d62-9627-870cf3550eaf",
   "metadata": {},
   "outputs": [
    {
     "data": {
      "text/html": [
       "<div>\n",
       "<style scoped>\n",
       "    .dataframe tbody tr th:only-of-type {\n",
       "        vertical-align: middle;\n",
       "    }\n",
       "\n",
       "    .dataframe tbody tr th {\n",
       "        vertical-align: top;\n",
       "    }\n",
       "\n",
       "    .dataframe thead th {\n",
       "        text-align: right;\n",
       "    }\n",
       "</style>\n",
       "<table border=\"1\" class=\"dataframe\">\n",
       "  <thead>\n",
       "    <tr style=\"text-align: right;\">\n",
       "      <th></th>\n",
       "      <th>category</th>\n",
       "      <th>medicine_name</th>\n",
       "      <th>therapeutic_area</th>\n",
       "      <th>common_name</th>\n",
       "      <th>active_substance</th>\n",
       "      <th>product_number</th>\n",
       "      <th>patient_safety</th>\n",
       "      <th>authorisation_status</th>\n",
       "      <th>atc_code</th>\n",
       "      <th>additional_monitoring</th>\n",
       "      <th>generic</th>\n",
       "      <th>biosimilar</th>\n",
       "      <th>conditional_approval</th>\n",
       "      <th>exceptional_circumstances</th>\n",
       "      <th>accelerated_assessment</th>\n",
       "      <th>orphan_medicine</th>\n",
       "      <th>marketing_authorisation_date</th>\n",
       "      <th>date_of_refusal_of_marketing_authorisation</th>\n",
       "      <th>marketing_authorisation_holder_company_name</th>\n",
       "      <th>pharmacotherapeutic_group</th>\n",
       "      <th>date_of_opinion</th>\n",
       "      <th>decision_date</th>\n",
       "      <th>revision_number</th>\n",
       "      <th>condition_indication</th>\n",
       "      <th>species</th>\n",
       "      <th>first_published</th>\n",
       "      <th>revision_date</th>\n",
       "      <th>url</th>\n",
       "    </tr>\n",
       "  </thead>\n",
       "  <tbody>\n",
       "    <tr>\n",
       "      <th>0</th>\n",
       "      <td>human</td>\n",
       "      <td>Adcetris</td>\n",
       "      <td>Lymphoma, Non-Hodgkin;  Hodgkin Disease</td>\n",
       "      <td>brentuximab vedotin</td>\n",
       "      <td>brentuximab vedotin</td>\n",
       "      <td>2455</td>\n",
       "      <td>False</td>\n",
       "      <td>authorised</td>\n",
       "      <td>L01XC12</td>\n",
       "      <td>False</td>\n",
       "      <td>False</td>\n",
       "      <td>False</td>\n",
       "      <td>False</td>\n",
       "      <td>False</td>\n",
       "      <td>False</td>\n",
       "      <td>True</td>\n",
       "      <td>2012-10-25</td>\n",
       "      <td>NaN</td>\n",
       "      <td>Takeda Pharma A/S</td>\n",
       "      <td>Antineoplastic agents</td>\n",
       "      <td>2012-07-19</td>\n",
       "      <td>2022-11-17</td>\n",
       "      <td>34.0</td>\n",
       "      <td>Hodgkin lymphomaAdcetris is indicated for adul...</td>\n",
       "      <td>NaN</td>\n",
       "      <td>2018-07-25T13:58:00Z</td>\n",
       "      <td>2023-03-13T11:52:00Z</td>\n",
       "      <td>https://www.ema.europa.eu/en/medicines/human/E...</td>\n",
       "    </tr>\n",
       "    <tr>\n",
       "      <th>1</th>\n",
       "      <td>human</td>\n",
       "      <td>Nityr</td>\n",
       "      <td>Tyrosinemias</td>\n",
       "      <td>nitisinone</td>\n",
       "      <td>nitisinone</td>\n",
       "      <td>4582</td>\n",
       "      <td>False</td>\n",
       "      <td>authorised</td>\n",
       "      <td>A16AX04</td>\n",
       "      <td>False</td>\n",
       "      <td>True</td>\n",
       "      <td>False</td>\n",
       "      <td>False</td>\n",
       "      <td>False</td>\n",
       "      <td>False</td>\n",
       "      <td>False</td>\n",
       "      <td>2018-07-26</td>\n",
       "      <td>NaN</td>\n",
       "      <td>Cycle Pharmaceuticals (Europe) Ltd</td>\n",
       "      <td>Other alimentary tract and metabolism products,</td>\n",
       "      <td>2018-05-31</td>\n",
       "      <td>2023-03-10</td>\n",
       "      <td>4.0</td>\n",
       "      <td>Treatment of adult and paediatric patients wit...</td>\n",
       "      <td>NaN</td>\n",
       "      <td>2018-07-26T14:20:00Z</td>\n",
       "      <td>2023-03-10T17:29:00Z</td>\n",
       "      <td>https://www.ema.europa.eu/en/medicines/human/E...</td>\n",
       "    </tr>\n",
       "    <tr>\n",
       "      <th>2</th>\n",
       "      <td>human</td>\n",
       "      <td>Ebvallo</td>\n",
       "      <td>Lymphoproliferative Disorders</td>\n",
       "      <td>tabelecleucel</td>\n",
       "      <td>tabelecleucel</td>\n",
       "      <td>4577</td>\n",
       "      <td>False</td>\n",
       "      <td>authorised</td>\n",
       "      <td>NaN</td>\n",
       "      <td>True</td>\n",
       "      <td>False</td>\n",
       "      <td>False</td>\n",
       "      <td>False</td>\n",
       "      <td>True</td>\n",
       "      <td>False</td>\n",
       "      <td>True</td>\n",
       "      <td>2022-12-16</td>\n",
       "      <td>NaN</td>\n",
       "      <td>Pierre Fabre Medicament</td>\n",
       "      <td>NaN</td>\n",
       "      <td>2022-10-13</td>\n",
       "      <td>2023-03-09</td>\n",
       "      <td>2.0</td>\n",
       "      <td>Ebvallo is indicated as monotherapy for treatm...</td>\n",
       "      <td>NaN</td>\n",
       "      <td>2022-10-12T16:13:00Z</td>\n",
       "      <td>2023-03-10T13:40:00Z</td>\n",
       "      <td>https://www.ema.europa.eu/en/medicines/human/E...</td>\n",
       "    </tr>\n",
       "    <tr>\n",
       "      <th>3</th>\n",
       "      <td>human</td>\n",
       "      <td>Ronapreve</td>\n",
       "      <td>COVID-19 virus infection</td>\n",
       "      <td>casirivimab, imdevimab</td>\n",
       "      <td>casirivimab, imdevimab</td>\n",
       "      <td>5814</td>\n",
       "      <td>False</td>\n",
       "      <td>authorised</td>\n",
       "      <td>J06BD</td>\n",
       "      <td>True</td>\n",
       "      <td>False</td>\n",
       "      <td>False</td>\n",
       "      <td>False</td>\n",
       "      <td>False</td>\n",
       "      <td>False</td>\n",
       "      <td>False</td>\n",
       "      <td>2021-11-12</td>\n",
       "      <td>NaN</td>\n",
       "      <td>Roche Registration GmbH</td>\n",
       "      <td>Immune sera and immunoglobulins,</td>\n",
       "      <td>2021-11-11</td>\n",
       "      <td>2023-02-24</td>\n",
       "      <td>3.0</td>\n",
       "      <td>Ronapreve is indicated for:Treatment of COVID-...</td>\n",
       "      <td>NaN</td>\n",
       "      <td>2021-11-12T16:30:00Z</td>\n",
       "      <td>2023-03-10T12:29:00Z</td>\n",
       "      <td>https://www.ema.europa.eu/en/medicines/human/E...</td>\n",
       "    </tr>\n",
       "    <tr>\n",
       "      <th>4</th>\n",
       "      <td>human</td>\n",
       "      <td>Cosentyx</td>\n",
       "      <td>Arthritis, Psoriatic;  Psoriasis;  Spondylitis...</td>\n",
       "      <td>secukinumab</td>\n",
       "      <td>secukinumab</td>\n",
       "      <td>3729</td>\n",
       "      <td>False</td>\n",
       "      <td>authorised</td>\n",
       "      <td>L04AC10</td>\n",
       "      <td>False</td>\n",
       "      <td>False</td>\n",
       "      <td>False</td>\n",
       "      <td>False</td>\n",
       "      <td>False</td>\n",
       "      <td>False</td>\n",
       "      <td>False</td>\n",
       "      <td>2015-01-14</td>\n",
       "      <td>NaN</td>\n",
       "      <td>Novartis Europharm Limited</td>\n",
       "      <td>Immunosuppressants</td>\n",
       "      <td>2014-11-20</td>\n",
       "      <td>2023-01-26</td>\n",
       "      <td>30.0</td>\n",
       "      <td>Plaque psoriasisCosentyx is indicated for the ...</td>\n",
       "      <td>NaN</td>\n",
       "      <td>2018-06-07T11:59:00Z</td>\n",
       "      <td>2023-03-09T18:53:00Z</td>\n",
       "      <td>https://www.ema.europa.eu/en/medicines/human/E...</td>\n",
       "    </tr>\n",
       "  </tbody>\n",
       "</table>\n",
       "</div>"
      ],
      "text/plain": [
       "  category medicine_name                                   therapeutic_area  \\\n",
       "0    human      Adcetris            Lymphoma, Non-Hodgkin;  Hodgkin Disease   \n",
       "1    human         Nityr                                       Tyrosinemias   \n",
       "2    human       Ebvallo                      Lymphoproliferative Disorders   \n",
       "3    human     Ronapreve                           COVID-19 virus infection   \n",
       "4    human      Cosentyx  Arthritis, Psoriatic;  Psoriasis;  Spondylitis...   \n",
       "\n",
       "              common_name        active_substance  product_number  \\\n",
       "0     brentuximab vedotin     brentuximab vedotin            2455   \n",
       "1              nitisinone              nitisinone            4582   \n",
       "2           tabelecleucel           tabelecleucel            4577   \n",
       "3  casirivimab, imdevimab  casirivimab, imdevimab            5814   \n",
       "4             secukinumab             secukinumab            3729   \n",
       "\n",
       "   patient_safety authorisation_status atc_code  additional_monitoring  \\\n",
       "0           False           authorised  L01XC12                  False   \n",
       "1           False           authorised  A16AX04                  False   \n",
       "2           False           authorised      NaN                   True   \n",
       "3           False           authorised    J06BD                   True   \n",
       "4           False           authorised  L04AC10                  False   \n",
       "\n",
       "   generic  biosimilar  conditional_approval  exceptional_circumstances  \\\n",
       "0    False       False                 False                      False   \n",
       "1     True       False                 False                      False   \n",
       "2    False       False                 False                       True   \n",
       "3    False       False                 False                      False   \n",
       "4    False       False                 False                      False   \n",
       "\n",
       "   accelerated_assessment  orphan_medicine marketing_authorisation_date  \\\n",
       "0                   False             True                   2012-10-25   \n",
       "1                   False            False                   2018-07-26   \n",
       "2                   False             True                   2022-12-16   \n",
       "3                   False            False                   2021-11-12   \n",
       "4                   False            False                   2015-01-14   \n",
       "\n",
       "  date_of_refusal_of_marketing_authorisation  \\\n",
       "0                                        NaN   \n",
       "1                                        NaN   \n",
       "2                                        NaN   \n",
       "3                                        NaN   \n",
       "4                                        NaN   \n",
       "\n",
       "  marketing_authorisation_holder_company_name  \\\n",
       "0                           Takeda Pharma A/S   \n",
       "1          Cycle Pharmaceuticals (Europe) Ltd   \n",
       "2                     Pierre Fabre Medicament   \n",
       "3                    Roche Registration GmbH    \n",
       "4                  Novartis Europharm Limited   \n",
       "\n",
       "                         pharmacotherapeutic_group date_of_opinion  \\\n",
       "0                            Antineoplastic agents      2012-07-19   \n",
       "1  Other alimentary tract and metabolism products,      2018-05-31   \n",
       "2                                              NaN      2022-10-13   \n",
       "3                 Immune sera and immunoglobulins,      2021-11-11   \n",
       "4                               Immunosuppressants      2014-11-20   \n",
       "\n",
       "  decision_date  revision_number  \\\n",
       "0    2022-11-17             34.0   \n",
       "1    2023-03-10              4.0   \n",
       "2    2023-03-09              2.0   \n",
       "3    2023-02-24              3.0   \n",
       "4    2023-01-26             30.0   \n",
       "\n",
       "                                condition_indication species  \\\n",
       "0  Hodgkin lymphomaAdcetris is indicated for adul...     NaN   \n",
       "1  Treatment of adult and paediatric patients wit...     NaN   \n",
       "2  Ebvallo is indicated as monotherapy for treatm...     NaN   \n",
       "3  Ronapreve is indicated for:Treatment of COVID-...     NaN   \n",
       "4  Plaque psoriasisCosentyx is indicated for the ...     NaN   \n",
       "\n",
       "        first_published         revision_date  \\\n",
       "0  2018-07-25T13:58:00Z  2023-03-13T11:52:00Z   \n",
       "1  2018-07-26T14:20:00Z  2023-03-10T17:29:00Z   \n",
       "2  2022-10-12T16:13:00Z  2023-03-10T13:40:00Z   \n",
       "3  2021-11-12T16:30:00Z  2023-03-10T12:29:00Z   \n",
       "4  2018-06-07T11:59:00Z  2023-03-09T18:53:00Z   \n",
       "\n",
       "                                                 url  \n",
       "0  https://www.ema.europa.eu/en/medicines/human/E...  \n",
       "1  https://www.ema.europa.eu/en/medicines/human/E...  \n",
       "2  https://www.ema.europa.eu/en/medicines/human/E...  \n",
       "3  https://www.ema.europa.eu/en/medicines/human/E...  \n",
       "4  https://www.ema.europa.eu/en/medicines/human/E...  "
      ]
     },
     "execution_count": 2,
     "metadata": {},
     "output_type": "execute_result"
    }
   ],
   "source": [
    "# Load data\n",
    "pd.set_option('display.max_columns', None) # display all columns\n",
    "df = pd.read_csv('https://raw.githubusercontent.com/rfordatascience/tidytuesday/master/data/2023/2023-03-14/drugs.csv')\n",
    "df.head()"
   ]
  },
  {
   "cell_type": "code",
   "execution_count": 3,
   "id": "9e8c0292-b8c6-4c6d-91ab-59be352b1c54",
   "metadata": {},
   "outputs": [
    {
     "data": {
      "text/plain": [
       "category                                        object\n",
       "medicine_name                                   object\n",
       "therapeutic_area                                object\n",
       "common_name                                     object\n",
       "active_substance                                object\n",
       "product_number                                   int64\n",
       "patient_safety                                    bool\n",
       "authorisation_status                            object\n",
       "atc_code                                        object\n",
       "additional_monitoring                             bool\n",
       "generic                                           bool\n",
       "biosimilar                                        bool\n",
       "conditional_approval                              bool\n",
       "exceptional_circumstances                         bool\n",
       "accelerated_assessment                            bool\n",
       "orphan_medicine                                   bool\n",
       "marketing_authorisation_date                    object\n",
       "date_of_refusal_of_marketing_authorisation      object\n",
       "marketing_authorisation_holder_company_name     object\n",
       "pharmacotherapeutic_group                       object\n",
       "date_of_opinion                                 object\n",
       "decision_date                                   object\n",
       "revision_number                                float64\n",
       "condition_indication                            object\n",
       "species                                         object\n",
       "first_published                                 object\n",
       "revision_date                                   object\n",
       "url                                             object\n",
       "dtype: object"
      ]
     },
     "execution_count": 3,
     "metadata": {},
     "output_type": "execute_result"
    }
   ],
   "source": [
    "df.dtypes"
   ]
  },
  {
   "cell_type": "code",
   "execution_count": 4,
   "id": "54eb950e-0e89-4848-8fa8-bfc92df8d507",
   "metadata": {},
   "outputs": [
    {
     "data": {
      "text/plain": [
       "['therapeutic_area',\n",
       " 'common_name',\n",
       " 'active_substance',\n",
       " 'authorisation_status',\n",
       " 'atc_code',\n",
       " 'marketing_authorisation_date',\n",
       " 'date_of_refusal_of_marketing_authorisation',\n",
       " 'marketing_authorisation_holder_company_name',\n",
       " 'pharmacotherapeutic_group',\n",
       " 'date_of_opinion',\n",
       " 'decision_date',\n",
       " 'revision_number',\n",
       " 'condition_indication',\n",
       " 'species',\n",
       " 'revision_date']"
      ]
     },
     "execution_count": 4,
     "metadata": {},
     "output_type": "execute_result"
    }
   ],
   "source": [
    "# columns with missing values\n",
    "df.columns[df.isna().any()].tolist()"
   ]
  },
  {
   "cell_type": "code",
   "execution_count": 5,
   "id": "d6dbe932-84ef-4591-876d-81704ce7beee",
   "metadata": {},
   "outputs": [
    {
     "name": "stdout",
     "output_type": "stream",
     "text": [
      "There are 1988 different drugs with 28 different features (columns) in the dataset.\n"
     ]
    }
   ],
   "source": [
    "print(f\"There are {len(df)} different drugs with {len(df.columns)} different features (columns) in the dataset.\")"
   ]
  },
  {
   "cell_type": "code",
   "execution_count": 6,
   "id": "33015728-3a39-4727-90ef-645c82a280d4",
   "metadata": {},
   "outputs": [
    {
     "data": {
      "text/plain": [
       "human         1706\n",
       "veterinary     282\n",
       "Name: category, dtype: int64"
      ]
     },
     "execution_count": 6,
     "metadata": {},
     "output_type": "execute_result"
    }
   ],
   "source": [
    "df.category.value_counts()"
   ]
  },
  {
   "cell_type": "code",
   "execution_count": 7,
   "id": "6953d306-0941-4fd0-bbf2-8173736cebb0",
   "metadata": {},
   "outputs": [
    {
     "data": {
      "text/plain": [
       "1976"
      ]
     },
     "execution_count": 7,
     "metadata": {},
     "output_type": "execute_result"
    }
   ],
   "source": [
    "df.medicine_name.nunique()"
   ]
  },
  {
   "cell_type": "code",
   "execution_count": 8,
   "id": "d84da38d-35ee-4daa-8dc1-0ab9de7ccead",
   "metadata": {},
   "outputs": [
    {
     "data": {
      "text/plain": [
       "meloxicam                                                                      18\n",
       "adalimumab                                                                     16\n",
       "olanzapine                                                                     12\n",
       "bevacizumab                                                                    12\n",
       "pegfilgrastim                                                                  12\n",
       "                                                                               ..\n",
       "nivolumab, relatlimab                                                           1\n",
       "delamanid                                                                       1\n",
       "roxadustat                                                                      1\n",
       "anifrolumab                                                                     1\n",
       "diphtheria toxoid, hepatitis b, recombinant surface antigen, tetanus toxoid     1\n",
       "Name: active_substance, Length: 1345, dtype: int64"
      ]
     },
     "execution_count": 8,
     "metadata": {},
     "output_type": "execute_result"
    }
   ],
   "source": [
    "df.active_substance.value_counts()"
   ]
  },
  {
   "cell_type": "markdown",
   "id": "94365ddc-027f-4d5d-8583-2c6b05029abf",
   "metadata": {},
   "source": [
    "We have to split the lists of string!"
   ]
  },
  {
   "cell_type": "code",
   "execution_count": 9,
   "id": "ad379e8a-144a-4364-a810-7dfd2aeafa0b",
   "metadata": {},
   "outputs": [
    {
     "data": {
      "text/plain": [
       "False    1977\n",
       "True       11\n",
       "Name: patient_safety, dtype: int64"
      ]
     },
     "execution_count": 9,
     "metadata": {},
     "output_type": "execute_result"
    }
   ],
   "source": [
    "df.patient_safety.value_counts()"
   ]
  },
  {
   "cell_type": "code",
   "execution_count": 10,
   "id": "788eb8b0-31a6-4c23-a8e9-ab6ee1ece20e",
   "metadata": {},
   "outputs": [
    {
     "data": {
      "text/plain": [
       "authorised    1573\n",
       "withdrawn      357\n",
       "refused         57\n",
       "Name: authorisation_status, dtype: int64"
      ]
     },
     "execution_count": 10,
     "metadata": {},
     "output_type": "execute_result"
    }
   ],
   "source": [
    "df.authorisation_status.value_counts()"
   ]
  },
  {
   "cell_type": "code",
   "execution_count": 11,
   "id": "642518c9-d545-4381-a52c-6f89aed7bbee",
   "metadata": {},
   "outputs": [
    {
     "data": {
      "text/plain": [
       "False    1601\n",
       "True      387\n",
       "Name: additional_monitoring, dtype: int64"
      ]
     },
     "execution_count": 11,
     "metadata": {},
     "output_type": "execute_result"
    }
   ],
   "source": [
    "df.additional_monitoring.value_counts()"
   ]
  },
  {
   "cell_type": "code",
   "execution_count": 12,
   "id": "829c5978-ba98-4e37-b5b2-9b9d9c07576b",
   "metadata": {},
   "outputs": [
    {
     "data": {
      "text/plain": [
       "False    1673\n",
       "True      315\n",
       "Name: generic, dtype: int64"
      ]
     },
     "execution_count": 12,
     "metadata": {},
     "output_type": "execute_result"
    }
   ],
   "source": [
    "df.generic.value_counts()"
   ]
  },
  {
   "cell_type": "code",
   "execution_count": 13,
   "id": "1f44bcb7-70ba-4712-b3c1-ce8dd4815d29",
   "metadata": {},
   "outputs": [
    {
     "data": {
      "text/plain": [
       "False    1896\n",
       "True       92\n",
       "Name: biosimilar, dtype: int64"
      ]
     },
     "execution_count": 13,
     "metadata": {},
     "output_type": "execute_result"
    }
   ],
   "source": [
    "df.biosimilar.value_counts()"
   ]
  },
  {
   "cell_type": "code",
   "execution_count": 14,
   "id": "d49ba146-7cc8-4dbc-abe8-73196fada2b6",
   "metadata": {},
   "outputs": [
    {
     "data": {
      "text/plain": [
       "False    1940\n",
       "True       48\n",
       "Name: conditional_approval, dtype: int64"
      ]
     },
     "execution_count": 14,
     "metadata": {},
     "output_type": "execute_result"
    }
   ],
   "source": [
    "df.conditional_approval.value_counts()"
   ]
  },
  {
   "cell_type": "code",
   "execution_count": 15,
   "id": "a9073115-6768-4c31-9524-cc0995983947",
   "metadata": {},
   "outputs": [
    {
     "data": {
      "text/plain": [
       "False    1940\n",
       "True       48\n",
       "Name: exceptional_circumstances, dtype: int64"
      ]
     },
     "execution_count": 15,
     "metadata": {},
     "output_type": "execute_result"
    }
   ],
   "source": [
    "df.exceptional_circumstances.value_counts()"
   ]
  },
  {
   "cell_type": "code",
   "execution_count": 16,
   "id": "19692666-a2fa-4be0-bf0f-412b1b202990",
   "metadata": {},
   "outputs": [
    {
     "data": {
      "text/plain": [
       "False    1940\n",
       "True       48\n",
       "Name: accelerated_assessment, dtype: int64"
      ]
     },
     "execution_count": 16,
     "metadata": {},
     "output_type": "execute_result"
    }
   ],
   "source": [
    "df.accelerated_assessment.value_counts()"
   ]
  },
  {
   "cell_type": "code",
   "execution_count": 17,
   "id": "71f29b9e-1a97-49ea-9b31-9f45625d7397",
   "metadata": {},
   "outputs": [
    {
     "data": {
      "text/plain": [
       "False    1826\n",
       "True      162\n",
       "Name: orphan_medicine, dtype: int64"
      ]
     },
     "execution_count": 17,
     "metadata": {},
     "output_type": "execute_result"
    }
   ],
   "source": [
    "df.orphan_medicine.value_counts()"
   ]
  },
  {
   "cell_type": "code",
   "execution_count": 18,
   "id": "37d6189a-034c-4352-979b-0afb142177ca",
   "metadata": {},
   "outputs": [
    {
     "data": {
      "image/png": "[encoded data removed]",
      "text/plain": [
       "<Figure size 1500x500 with 1 Axes>"
      ]
     },
     "metadata": {},
     "output_type": "display_data"
    }
   ],
   "source": [
    "plt.figure(figsize=(15,5))\n",
    "df.revision_number.value_counts().sort_index().plot.bar()\n",
    "plt.xlabel('revision_number')\n",
    "plt.show()"
   ]
  },
  {
   "cell_type": "code",
   "execution_count": null,
   "id": "eed3125b-b5a8-49cf-9bee-daf5c36ab4c4",
   "metadata": {},
   "outputs": [],
   "source": []
  }
 ],
 "metadata": {
  "kernelspec": {
   "display_name": "Python 3 (ipykernel)",
   "language": "python",
   "name": "python3"
  },
  "language_info": {
   "codemirror_mode": {
    "name": "ipython",
    "version": 3
   },
   "file_extension": ".py",
   "mimetype": "text/x-python",
   "name": "python",
   "nbconvert_exporter": "python",
   "pygments_lexer": "ipython3",
   "version": "3.8.8"
  }
 },
 "nbformat": 4,
 "nbformat_minor": 5
}
